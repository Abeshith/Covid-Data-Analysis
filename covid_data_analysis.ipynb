{
 "cells": [
  {
   "cell_type": "code",
   "execution_count": 1,
   "id": "86b171ad",
   "metadata": {},
   "outputs": [],
   "source": [
    "import pandas as pd\n",
    "import numpy as np\n",
    "import matplotlib.pyplot as plt\n",
    "import seaborn as sns\n",
    "from wordcloud import WordCloud\n",
    "from pandas.plotting import scatter_matrix\n",
    "from sklearn.preprocessing import LabelEncoder"
   ]
  },
  {
   "cell_type": "code",
   "execution_count": 4,
   "id": "e9eee02f",
   "metadata": {},
   "outputs": [],
   "source": [
    "train_data = pd.read_csv('kaggle/train_data_covid.csv')\n",
    "test_data = pd.read_csv('kaggle/test_data_covid.csv')\n",
    "submission_data = pd.read_csv('kaggle/sample_submission.csv')"
   ]
  },
  {
   "cell_type": "code",
   "execution_count": 5,
   "id": "bee97dc5",
   "metadata": {},
   "outputs": [],
   "source": [
    "X= train_data.drop(['Date','Time','Deaths','ConfirmedIndianNational','ConfirmedForeignNational','OxygenTanks'], axis =1)"
   ]
  },
  {
   "cell_type": "code",
   "execution_count": 6,
   "id": "d5a4f732",
   "metadata": {},
   "outputs": [],
   "source": [
    "Label = LabelEncoder()\n",
    "X['State/UnionTerritory'] =Label.fit_transform(X['State/UnionTerritory'])"
   ]
  },
  {
   "cell_type": "code",
   "execution_count": 7,
   "id": "e66607df",
   "metadata": {},
   "outputs": [
    {
     "data": {
      "text/plain": [
       "dtype('int64')"
      ]
     },
     "execution_count": 7,
     "metadata": {},
     "output_type": "execute_result"
    }
   ],
   "source": [
    "y = train_data['Deaths']\n",
    "y.dtype"
   ]
  },
  {
   "cell_type": "code",
   "execution_count": 8,
   "id": "ac10403e",
   "metadata": {},
   "outputs": [],
   "source": [
    "testing_data = test_data.drop(['Date','Time','ConfirmedIndianNational','ConfirmedForeignNational','OxygenTanks'], axis =1)"
   ]
  },
  {
   "cell_type": "code",
   "execution_count": 12,
   "id": "ec4f92ad",
   "metadata": {},
   "outputs": [],
   "source": [
    "Label = LabelEncoder()\n",
    "testing_data['State/UnionTerritory'] = Label.fit_transform(testing_data['State/UnionTerritory'])"
   ]
  },
  {
   "cell_type": "code",
   "execution_count": 10,
   "id": "f36967bb",
   "metadata": {},
   "outputs": [
    {
     "data": {
      "text/html": [
       "<div>\n",
       "<style scoped>\n",
       "    .dataframe tbody tr th:only-of-type {\n",
       "        vertical-align: middle;\n",
       "    }\n",
       "\n",
       "    .dataframe tbody tr th {\n",
       "        vertical-align: top;\n",
       "    }\n",
       "\n",
       "    .dataframe thead th {\n",
       "        text-align: right;\n",
       "    }\n",
       "</style>\n",
       "<table border=\"1\" class=\"dataframe\">\n",
       "  <thead>\n",
       "    <tr style=\"text-align: right;\">\n",
       "      <th></th>\n",
       "      <th>Sno</th>\n",
       "      <th>State/UnionTerritory</th>\n",
       "      <th>Cured</th>\n",
       "      <th>Confirmed</th>\n",
       "      <th>PopulationDensityPerSqKm</th>\n",
       "    </tr>\n",
       "  </thead>\n",
       "  <tbody>\n",
       "    <tr>\n",
       "      <th>0</th>\n",
       "      <td>1</td>\n",
       "      <td>18</td>\n",
       "      <td>0</td>\n",
       "      <td>1</td>\n",
       "      <td>867</td>\n",
       "    </tr>\n",
       "    <tr>\n",
       "      <th>1</th>\n",
       "      <td>2</td>\n",
       "      <td>18</td>\n",
       "      <td>0</td>\n",
       "      <td>1</td>\n",
       "      <td>61</td>\n",
       "    </tr>\n",
       "    <tr>\n",
       "      <th>2</th>\n",
       "      <td>3</td>\n",
       "      <td>18</td>\n",
       "      <td>0</td>\n",
       "      <td>2</td>\n",
       "      <td>316</td>\n",
       "    </tr>\n",
       "    <tr>\n",
       "      <th>3</th>\n",
       "      <td>4</td>\n",
       "      <td>18</td>\n",
       "      <td>0</td>\n",
       "      <td>3</td>\n",
       "      <td>806</td>\n",
       "    </tr>\n",
       "    <tr>\n",
       "      <th>4</th>\n",
       "      <td>5</td>\n",
       "      <td>18</td>\n",
       "      <td>0</td>\n",
       "      <td>3</td>\n",
       "      <td>369</td>\n",
       "    </tr>\n",
       "  </tbody>\n",
       "</table>\n",
       "</div>"
      ],
      "text/plain": [
       "   Sno  State/UnionTerritory  Cured  Confirmed  PopulationDensityPerSqKm\n",
       "0    1                    18      0          1                       867\n",
       "1    2                    18      0          1                        61\n",
       "2    3                    18      0          2                       316\n",
       "3    4                    18      0          3                       806\n",
       "4    5                    18      0          3                       369"
      ]
     },
     "execution_count": 10,
     "metadata": {},
     "output_type": "execute_result"
    }
   ],
   "source": [
    "X.head()"
   ]
  },
  {
   "cell_type": "code",
   "execution_count": 13,
   "id": "e14e764a",
   "metadata": {},
   "outputs": [
    {
     "data": {
      "text/html": [
       "<div>\n",
       "<style scoped>\n",
       "    .dataframe tbody tr th:only-of-type {\n",
       "        vertical-align: middle;\n",
       "    }\n",
       "\n",
       "    .dataframe tbody tr th {\n",
       "        vertical-align: top;\n",
       "    }\n",
       "\n",
       "    .dataframe thead th {\n",
       "        text-align: right;\n",
       "    }\n",
       "</style>\n",
       "<table border=\"1\" class=\"dataframe\">\n",
       "  <thead>\n",
       "    <tr style=\"text-align: right;\">\n",
       "      <th></th>\n",
       "      <th>Sno</th>\n",
       "      <th>State/UnionTerritory</th>\n",
       "      <th>Cured</th>\n",
       "      <th>Confirmed</th>\n",
       "      <th>PopulationDensityPerSqKm</th>\n",
       "    </tr>\n",
       "  </thead>\n",
       "  <tbody>\n",
       "    <tr>\n",
       "      <th>0</th>\n",
       "      <td>15001</td>\n",
       "      <td>28</td>\n",
       "      <td>18478</td>\n",
       "      <td>23332</td>\n",
       "      <td>514</td>\n",
       "    </tr>\n",
       "    <tr>\n",
       "      <th>1</th>\n",
       "      <td>15002</td>\n",
       "      <td>29</td>\n",
       "      <td>6687</td>\n",
       "      <td>8829</td>\n",
       "      <td>563</td>\n",
       "    </tr>\n",
       "    <tr>\n",
       "      <th>2</th>\n",
       "      <td>15003</td>\n",
       "      <td>30</td>\n",
       "      <td>13767</td>\n",
       "      <td>18076</td>\n",
       "      <td>577</td>\n",
       "    </tr>\n",
       "    <tr>\n",
       "      <th>3</th>\n",
       "      <td>15004</td>\n",
       "      <td>31</td>\n",
       "      <td>514532</td>\n",
       "      <td>612224</td>\n",
       "      <td>615</td>\n",
       "    </tr>\n",
       "    <tr>\n",
       "      <th>4</th>\n",
       "      <td>15005</td>\n",
       "      <td>32</td>\n",
       "      <td>65689</td>\n",
       "      <td>84506</td>\n",
       "      <td>573</td>\n",
       "    </tr>\n",
       "  </tbody>\n",
       "</table>\n",
       "</div>"
      ],
      "text/plain": [
       "     Sno  State/UnionTerritory   Cured  Confirmed  PopulationDensityPerSqKm\n",
       "0  15001                    28   18478      23332                       514\n",
       "1  15002                    29    6687       8829                       563\n",
       "2  15003                    30   13767      18076                       577\n",
       "3  15004                    31  514532     612224                       615\n",
       "4  15005                    32   65689      84506                       573"
      ]
     },
     "execution_count": 13,
     "metadata": {},
     "output_type": "execute_result"
    }
   ],
   "source": [
    "testing_data.head()"
   ]
  },
  {
   "cell_type": "code",
   "execution_count": 14,
   "id": "8dbf4ccd",
   "metadata": {},
   "outputs": [],
   "source": [
    "from sklearn.model_selection import train_test_split\n",
    "X_train, X_test, y_train, y_test = train_test_split(X, y, test_size=0.2, random_state=42)"
   ]
  },
  {
   "cell_type": "code",
   "execution_count": 20,
   "id": "1cd5b396",
   "metadata": {},
   "outputs": [],
   "source": [
    "from imblearn.under_sampling import NearMiss\n",
    "undersampler = NearMiss()"
   ]
  },
  {
   "cell_type": "code",
   "execution_count": 22,
   "id": "6cf99ece",
   "metadata": {},
   "outputs": [],
   "source": [
    "from imblearn.over_sampling import RandomOverSampler\n",
    "\n",
    "# Assuming X_train and y_train represent your features and target variable for the training data\n",
    "\n",
    "# Create RandomOverSampler object\n",
    "random_oversampler = RandomOverSampler(random_state=42)\n",
    "\n",
    "# Apply Random Over-sampling to generate synthetic samples for the training data\n",
    "X_train_resampled, y_train_resampled = random_oversampler.fit_resample(X_train, y_train)"
   ]
  },
  {
   "cell_type": "code",
   "execution_count": 23,
   "id": "99050212",
   "metadata": {},
   "outputs": [
    {
     "data": {
      "text/html": [
       "<div>\n",
       "<style scoped>\n",
       "    .dataframe tbody tr th:only-of-type {\n",
       "        vertical-align: middle;\n",
       "    }\n",
       "\n",
       "    .dataframe tbody tr th {\n",
       "        vertical-align: top;\n",
       "    }\n",
       "\n",
       "    .dataframe thead th {\n",
       "        text-align: right;\n",
       "    }\n",
       "</style>\n",
       "<table border=\"1\" class=\"dataframe\">\n",
       "  <thead>\n",
       "    <tr style=\"text-align: right;\">\n",
       "      <th></th>\n",
       "      <th>Sno</th>\n",
       "      <th>State/UnionTerritory</th>\n",
       "      <th>Cured</th>\n",
       "      <th>Confirmed</th>\n",
       "      <th>PopulationDensityPerSqKm</th>\n",
       "    </tr>\n",
       "  </thead>\n",
       "  <tbody>\n",
       "    <tr>\n",
       "      <th>0</th>\n",
       "      <td>9841</td>\n",
       "      <td>12</td>\n",
       "      <td>224092</td>\n",
       "      <td>239195</td>\n",
       "      <td>408</td>\n",
       "    </tr>\n",
       "    <tr>\n",
       "      <th>1</th>\n",
       "      <td>9387</td>\n",
       "      <td>26</td>\n",
       "      <td>10934</td>\n",
       "      <td>11634</td>\n",
       "      <td>670</td>\n",
       "    </tr>\n",
       "    <tr>\n",
       "      <th>2</th>\n",
       "      <td>6561</td>\n",
       "      <td>39</td>\n",
       "      <td>198983</td>\n",
       "      <td>228302</td>\n",
       "      <td>418</td>\n",
       "    </tr>\n",
       "    <tr>\n",
       "      <th>3</th>\n",
       "      <td>3403</td>\n",
       "      <td>17</td>\n",
       "      <td>6151</td>\n",
       "      <td>10118</td>\n",
       "      <td>569</td>\n",
       "    </tr>\n",
       "    <tr>\n",
       "      <th>4</th>\n",
       "      <td>821</td>\n",
       "      <td>23</td>\n",
       "      <td>1</td>\n",
       "      <td>2</td>\n",
       "      <td>605</td>\n",
       "    </tr>\n",
       "    <tr>\n",
       "      <th>...</th>\n",
       "      <td>...</td>\n",
       "      <td>...</td>\n",
       "      <td>...</td>\n",
       "      <td>...</td>\n",
       "      <td>...</td>\n",
       "    </tr>\n",
       "    <tr>\n",
       "      <th>5863621</th>\n",
       "      <td>14999</td>\n",
       "      <td>22</td>\n",
       "      <td>4826371</td>\n",
       "      <td>5378452</td>\n",
       "      <td>195</td>\n",
       "    </tr>\n",
       "    <tr>\n",
       "      <th>5863622</th>\n",
       "      <td>14999</td>\n",
       "      <td>22</td>\n",
       "      <td>4826371</td>\n",
       "      <td>5378452</td>\n",
       "      <td>195</td>\n",
       "    </tr>\n",
       "    <tr>\n",
       "      <th>5863623</th>\n",
       "      <td>14999</td>\n",
       "      <td>22</td>\n",
       "      <td>4826371</td>\n",
       "      <td>5378452</td>\n",
       "      <td>195</td>\n",
       "    </tr>\n",
       "    <tr>\n",
       "      <th>5863624</th>\n",
       "      <td>14999</td>\n",
       "      <td>22</td>\n",
       "      <td>4826371</td>\n",
       "      <td>5378452</td>\n",
       "      <td>195</td>\n",
       "    </tr>\n",
       "    <tr>\n",
       "      <th>5863625</th>\n",
       "      <td>14999</td>\n",
       "      <td>22</td>\n",
       "      <td>4826371</td>\n",
       "      <td>5378452</td>\n",
       "      <td>195</td>\n",
       "    </tr>\n",
       "  </tbody>\n",
       "</table>\n",
       "<p>5863626 rows × 5 columns</p>\n",
       "</div>"
      ],
      "text/plain": [
       "           Sno  State/UnionTerritory    Cured  Confirmed  \\\n",
       "0         9841                    12   224092     239195   \n",
       "1         9387                    26    10934      11634   \n",
       "2         6561                    39   198983     228302   \n",
       "3         3403                    17     6151      10118   \n",
       "4          821                    23        1          2   \n",
       "...        ...                   ...      ...        ...   \n",
       "5863621  14999                    22  4826371    5378452   \n",
       "5863622  14999                    22  4826371    5378452   \n",
       "5863623  14999                    22  4826371    5378452   \n",
       "5863624  14999                    22  4826371    5378452   \n",
       "5863625  14999                    22  4826371    5378452   \n",
       "\n",
       "         PopulationDensityPerSqKm  \n",
       "0                             408  \n",
       "1                             670  \n",
       "2                             418  \n",
       "3                             569  \n",
       "4                             605  \n",
       "...                           ...  \n",
       "5863621                       195  \n",
       "5863622                       195  \n",
       "5863623                       195  \n",
       "5863624                       195  \n",
       "5863625                       195  \n",
       "\n",
       "[5863626 rows x 5 columns]"
      ]
     },
     "execution_count": 23,
     "metadata": {},
     "output_type": "execute_result"
    }
   ],
   "source": [
    "X_train_resampled"
   ]
  },
  {
   "cell_type": "code",
   "execution_count": 25,
   "id": "6d730b92",
   "metadata": {},
   "outputs": [],
   "source": [
    "from sklearn.ensemble import RandomForestRegressor\n",
    "from sklearn.metrics import mean_squared_error\n",
    "\n",
    "# Create and train the Random Forest regressor\n",
    "random_forest = RandomForestRegressor(n_estimators=200, random_state=42)  # Adjust hyperparameters as needed"
   ]
  },
  {
   "cell_type": "code",
   "execution_count": 27,
   "id": "29fb5753",
   "metadata": {},
   "outputs": [],
   "source": [
    "from sklearn.linear_model import LinearRegression\n",
    "from sklearn.metrics import mean_squared_error\n",
    "\n",
    "# Create and train the regression model\n",
    "regression_model = LinearRegression()"
   ]
  },
  {
   "cell_type": "code",
   "execution_count": null,
   "id": "45d7444b",
   "metadata": {},
   "outputs": [],
   "source": [
    "random_forest.fit(X_train_resampled,y_train_resampled)"
   ]
  },
  {
   "cell_type": "code",
   "execution_count": 31,
   "id": "0a1c8f80",
   "metadata": {},
   "outputs": [],
   "source": [
    "# Make predictions on the test data\n",
    "y_pred = regression_model.predict(testing_data)"
   ]
  },
  {
   "cell_type": "code",
   "execution_count": 32,
   "id": "00e5cb7c",
   "metadata": {},
   "outputs": [
    {
     "data": {
      "text/plain": [
       "array([-3170.0462737 , -3320.46199482, -3095.47726635, ...,\n",
       "        2439.97547466, 28420.73077761, 25469.85188321])"
      ]
     },
     "execution_count": 32,
     "metadata": {},
     "output_type": "execute_result"
    }
   ],
   "source": [
    "y_pred"
   ]
  },
  {
   "cell_type": "code",
   "execution_count": 33,
   "id": "3750ac6a",
   "metadata": {},
   "outputs": [],
   "source": [
    "Sno = submission_data['Sno']"
   ]
  },
  {
   "cell_type": "code",
   "execution_count": 35,
   "id": "47a93615",
   "metadata": {},
   "outputs": [],
   "source": [
    "submit = pd.DataFrame({'Sno':Sno, 'Deaths': y_pred})\n",
    "submit.to_csv('submission16.csv', index=False)"
   ]
  }
 ],
 "metadata": {
  "kernelspec": {
   "display_name": "Python 3 (ipykernel)",
   "language": "python",
   "name": "python3"
  },
  "language_info": {
   "codemirror_mode": {
    "name": "ipython",
    "version": 3
   },
   "file_extension": ".py",
   "mimetype": "text/x-python",
   "name": "python",
   "nbconvert_exporter": "python",
   "pygments_lexer": "ipython3",
   "version": "3.11.1"
  }
 },
 "nbformat": 4,
 "nbformat_minor": 5
}
